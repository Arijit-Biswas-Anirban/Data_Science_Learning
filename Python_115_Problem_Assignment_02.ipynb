{
  "nbformat": 4,
  "nbformat_minor": 0,
  "metadata": {
    "colab": {
      "provenance": [],
      "mount_file_id": "17diytlmYGaQ2xoYjvot9pVnNNxmnUjuy",
      "authorship_tag": "ABX9TyNquSljPy1hJcKziXq9/du2",
      "include_colab_link": true
    },
    "kernelspec": {
      "name": "python3",
      "display_name": "Python 3"
    },
    "language_info": {
      "name": "python"
    }
  },
  "cells": [
    {
      "cell_type": "markdown",
      "metadata": {
        "id": "view-in-github",
        "colab_type": "text"
      },
      "source": [
        "<a href=\"https://colab.research.google.com/github/Arijit-Biswas-Anirban/Data_Science_Learning/blob/main/Python_115_Problem_Assignment_02.ipynb\" target=\"_parent\"><img src=\"https://colab.research.google.com/assets/colab-badge.svg\" alt=\"Open In Colab\"/></a>"
      ]
    },
    {
      "cell_type": "markdown",
      "source": [
        "1. Variable Swap without Temporary Variable"
      ],
      "metadata": {
        "id": "3GlK8wJoN2Iu"
      }
    },
    {
      "cell_type": "code",
      "execution_count": 1,
      "metadata": {
        "colab": {
          "base_uri": "https://localhost:8080/"
        },
        "id": "0FBwUujlNjHK",
        "outputId": "be28b462-dd50-42c6-a91a-51208d6ec96b"
      },
      "outputs": [
        {
          "output_type": "stream",
          "name": "stdout",
          "text": [
            "x = 10 y = 5\n"
          ]
        }
      ],
      "source": [
        "x = 5\n",
        "y = 10\n",
        "\n",
        "x, y = y, x\n",
        "\n",
        "print(\"x =\", x, \"y =\", y)\n"
      ]
    },
    {
      "cell_type": "markdown",
      "source": [
        "2. Even or Odd"
      ],
      "metadata": {
        "id": "NpfPLqn4N68a"
      }
    },
    {
      "cell_type": "code",
      "source": [
        "num = int(input(\"Enter an integer: \"))\n",
        "\n",
        "if num % 2 == 0:\n",
        "    print(\"Even\")\n",
        "else:\n",
        "    print(\"Odd\")\n"
      ],
      "metadata": {
        "colab": {
          "base_uri": "https://localhost:8080/"
        },
        "id": "RCC4kbA8N5_5",
        "outputId": "5434c2ea-e22a-4d70-b4cb-a181f161e2d8"
      },
      "execution_count": 2,
      "outputs": [
        {
          "output_type": "stream",
          "name": "stdout",
          "text": [
            "Enter an integer: 5\n",
            "Odd\n"
          ]
        }
      ]
    },
    {
      "cell_type": "markdown",
      "source": [
        "3. String Reverse (function)"
      ],
      "metadata": {
        "id": "hb3d-MuNOOTR"
      }
    },
    {
      "cell_type": "code",
      "source": [
        "def reverse_string(s):\n",
        "    return s[::-1]\n",
        "\n",
        "print(reverse_string(\"Hello\"))\n"
      ],
      "metadata": {
        "colab": {
          "base_uri": "https://localhost:8080/"
        },
        "id": "3E9if5HKOGjW",
        "outputId": "61c8bf6d-3c30-4c11-fc0e-6cd93a2bd59c"
      },
      "execution_count": 3,
      "outputs": [
        {
          "output_type": "stream",
          "name": "stdout",
          "text": [
            "olleH\n"
          ]
        }
      ]
    },
    {
      "cell_type": "markdown",
      "source": [
        "4. Type Conversion (int list → string list)"
      ],
      "metadata": {
        "id": "lsay5rRsOScW"
      }
    },
    {
      "cell_type": "code",
      "source": [
        "numbers = [1, 2, 3, 4, 5]\n",
        "string_list = list(map(str, numbers))\n",
        "\n",
        "print(string_list)\n"
      ],
      "metadata": {
        "colab": {
          "base_uri": "https://localhost:8080/"
        },
        "id": "toSrEFGKOPrC",
        "outputId": "87d6713d-e81a-4b0d-d129-0a8f3c877f62"
      },
      "execution_count": 4,
      "outputs": [
        {
          "output_type": "stream",
          "name": "stdout",
          "text": [
            "['1', '2', '3', '4', '5']\n"
          ]
        }
      ]
    },
    {
      "cell_type": "markdown",
      "source": [
        "5. Temperature Converter (Celsius → Fahrenheit)"
      ],
      "metadata": {
        "id": "uasuTIANOWnk"
      }
    },
    {
      "cell_type": "code",
      "source": [
        "celsius = float(input(\"Enter temperature in Celsius: \"))\n",
        "fahrenheit = (celsius * 9/5) + 32\n",
        "\n",
        "print(f\"Temperature in Fahrenheit: {fahrenheit}\")\n"
      ],
      "metadata": {
        "colab": {
          "base_uri": "https://localhost:8080/"
        },
        "id": "bQ_mgQfjOT89",
        "outputId": "3bc18048-aa79-48fa-ee09-1ee0f4a0724b"
      },
      "execution_count": 5,
      "outputs": [
        {
          "output_type": "stream",
          "name": "stdout",
          "text": [
            "Enter temperature in Celsius: 39\n",
            "Temperature in Fahrenheit: 102.2\n"
          ]
        }
      ]
    },
    {
      "cell_type": "markdown",
      "source": [
        "6. Data Type Checker"
      ],
      "metadata": {
        "id": "iCEhDilJOanm"
      }
    },
    {
      "cell_type": "code",
      "source": [
        "def check_type(var):\n",
        "    return type(var).__name__\n",
        "\n",
        "print(check_type(42))       # int\n",
        "print(check_type(3.14))     # float\n",
        "print(check_type(\"Hello\"))  # str\n"
      ],
      "metadata": {
        "colab": {
          "base_uri": "https://localhost:8080/"
        },
        "id": "oMbc86aYOYHV",
        "outputId": "11236837-b69e-4943-ad14-0d63d7114b7e"
      },
      "execution_count": 6,
      "outputs": [
        {
          "output_type": "stream",
          "name": "stdout",
          "text": [
            "int\n",
            "float\n",
            "str\n"
          ]
        }
      ]
    },
    {
      "cell_type": "markdown",
      "source": [
        "7. String Palindrome"
      ],
      "metadata": {
        "id": "r6SJ3_cpOfXs"
      }
    },
    {
      "cell_type": "code",
      "source": [
        "def is_palindrome(s):\n",
        "    s = s.lower().replace(\" \", \"\")\n",
        "    return s == s[::-1]\n",
        "\n",
        "print(is_palindrome(\"madam\"))   # True\n",
        "print(is_palindrome(\"hello\"))   # False\n"
      ],
      "metadata": {
        "colab": {
          "base_uri": "https://localhost:8080/"
        },
        "id": "Dg8LK-c7OdbQ",
        "outputId": "e84c0c13-c7bb-4775-9719-a926252ac018"
      },
      "execution_count": 7,
      "outputs": [
        {
          "output_type": "stream",
          "name": "stdout",
          "text": [
            "True\n",
            "False\n"
          ]
        }
      ]
    },
    {
      "cell_type": "markdown",
      "source": [
        "8. String Reversal using Slicing"
      ],
      "metadata": {
        "id": "XbgsfTjWOkfN"
      }
    },
    {
      "cell_type": "code",
      "source": [
        "def reverse_string_slicing(s):\n",
        "    return s[::-1]\n",
        "\n",
        "print(reverse_string_slicing(\"Python\"))\n"
      ],
      "metadata": {
        "colab": {
          "base_uri": "https://localhost:8080/"
        },
        "id": "ZAmRhcuOOgi4",
        "outputId": "bc19f654-2b6a-4f32-b5f9-6e74bdff83bd"
      },
      "execution_count": 8,
      "outputs": [
        {
          "output_type": "stream",
          "name": "stdout",
          "text": [
            "nohtyP\n"
          ]
        }
      ]
    },
    {
      "cell_type": "markdown",
      "source": [
        "9. String Concatenation without +"
      ],
      "metadata": {
        "id": "1neX3wdJOpzF"
      }
    },
    {
      "cell_type": "code",
      "source": [
        "str1 = input(\"Enter first string: \")\n",
        "str2 = input(\"Enter second string: \")\n",
        "\n",
        "result = \"{}{}\".format(str1, str2)\n",
        "print(result)\n"
      ],
      "metadata": {
        "colab": {
          "base_uri": "https://localhost:8080/"
        },
        "id": "s4y0xwA3Omi8",
        "outputId": "6a654920-ccce-45ef-a2d9-d31c48916428"
      },
      "execution_count": 9,
      "outputs": [
        {
          "output_type": "stream",
          "name": "stdout",
          "text": [
            "Enter first string: ha\n",
            "Enter second string: ah\n",
            "haah\n"
          ]
        }
      ]
    },
    {
      "cell_type": "markdown",
      "source": [
        "10. Typecasting Challenge"
      ],
      "metadata": {
        "id": "xDl_4ejpOy7G"
      }
    },
    {
      "cell_type": "code",
      "source": [
        "a = '100'\n",
        "b = 25\n",
        "c = '10.5'\n",
        "\n",
        "step1 = int(a) + b\n",
        "\n",
        "step2 = step1 - float(c)\n",
        "\n",
        "final_result = str(step2) + \" is the answer\"\n",
        "\n",
        "print(final_result)\n"
      ],
      "metadata": {
        "colab": {
          "base_uri": "https://localhost:8080/"
        },
        "id": "7lc4n-4IOrbK",
        "outputId": "5d428371-106f-4701-c235-1bb16898bad6"
      },
      "execution_count": 11,
      "outputs": [
        {
          "output_type": "stream",
          "name": "stdout",
          "text": [
            "114.5 is the answer\n"
          ]
        }
      ]
    },
    {
      "cell_type": "markdown",
      "source": [
        "11. Positive, Negative, or Zero"
      ],
      "metadata": {
        "id": "SGszqxP-PghQ"
      }
    },
    {
      "cell_type": "code",
      "source": [
        "num = float(input(\"Enter a number: \"))\n",
        "if num > 0:\n",
        "    print(\"Positive\")\n",
        "elif num < 0:\n",
        "    print(\"Negative\")\n",
        "else:\n",
        "    print(\"Zero\")\n"
      ],
      "metadata": {
        "colab": {
          "base_uri": "https://localhost:8080/"
        },
        "id": "p-go13QsO0Ue",
        "outputId": "9abbe714-c6a3-49cd-aafc-0714082c4fcd"
      },
      "execution_count": 13,
      "outputs": [
        {
          "output_type": "stream",
          "name": "stdout",
          "text": [
            "Enter a number: 4\n",
            "Positive\n"
          ]
        }
      ]
    },
    {
      "cell_type": "markdown",
      "source": [
        "12. Largest of Three Numbers"
      ],
      "metadata": {
        "id": "1g4XnVlKPmm1"
      }
    },
    {
      "cell_type": "code",
      "source": [
        "a = float(input(\"Enter first number: \"))\n",
        "b = float(input(\"Enter second number: \"))\n",
        "c = float(input(\"Enter third number: \"))\n",
        "\n",
        "if a >= b and a >= c:\n",
        "    print(\"Largest:\", a)\n",
        "elif b >= a and b >= c:\n",
        "    print(\"Largest:\", b)\n",
        "else:\n",
        "    print(\"Largest:\", c)\n"
      ],
      "metadata": {
        "colab": {
          "base_uri": "https://localhost:8080/"
        },
        "id": "-gEq1u6kPieH",
        "outputId": "6622f846-f346-4f26-ebef-e6d196ec422d"
      },
      "execution_count": 14,
      "outputs": [
        {
          "output_type": "stream",
          "name": "stdout",
          "text": [
            "Enter first number: 4\n",
            "Enter second number: 5\n",
            "Enter third number: 6\n",
            "Largest: 6.0\n"
          ]
        }
      ]
    },
    {
      "cell_type": "markdown",
      "source": [
        "13. Leap Year Checker"
      ],
      "metadata": {
        "id": "eU4U5UlcPrDI"
      }
    },
    {
      "cell_type": "code",
      "source": [
        "year = int(input(\"Enter a year: \"))\n",
        "if (year % 4 == 0 and year % 100 != 0) or (year % 400 == 0):\n",
        "    print(\"Leap year\")\n",
        "else:\n",
        "    print(\"Not a leap year\")\n"
      ],
      "metadata": {
        "colab": {
          "base_uri": "https://localhost:8080/"
        },
        "id": "in4yN5EiPn2r",
        "outputId": "621aacd7-1477-4e60-eff1-dcc8360f8538"
      },
      "execution_count": 15,
      "outputs": [
        {
          "output_type": "stream",
          "name": "stdout",
          "text": [
            "Enter a year: 2022\n",
            "Not a leap year\n"
          ]
        }
      ]
    },
    {
      "cell_type": "markdown",
      "source": [
        "14. Grades Classification"
      ],
      "metadata": {
        "id": "9oY5XQMlPvc5"
      }
    },
    {
      "cell_type": "code",
      "source": [
        "percentage = float(input(\"Enter percentage: \"))\n",
        "\n",
        "if percentage >= 80:\n",
        "    print(\"A+\")\n",
        "elif percentage >= 70:\n",
        "    print(\"A\")\n",
        "elif percentage >= 60:\n",
        "    print(\"B\")\n",
        "elif percentage >= 50:\n",
        "    print(\"C\")\n",
        "else:\n",
        "    print(\"Fail\")\n"
      ],
      "metadata": {
        "colab": {
          "base_uri": "https://localhost:8080/"
        },
        "id": "Faw42vXNPsL4",
        "outputId": "4d21f55a-65e1-4a3d-cb40-7a0ae6724c55"
      },
      "execution_count": 17,
      "outputs": [
        {
          "output_type": "stream",
          "name": "stdout",
          "text": [
            "Enter percentage: 67\n",
            "B\n"
          ]
        }
      ]
    },
    {
      "cell_type": "markdown",
      "source": [
        "15. Vowel or Consonant"
      ],
      "metadata": {
        "id": "JmzV0kviP5SJ"
      }
    },
    {
      "cell_type": "code",
      "source": [
        "ch = input(\"Enter a single character: \").lower()\n",
        "if ch in 'aeiou':\n",
        "    print(\"Vowel\")\n",
        "else:\n",
        "    print(\"Consonant\")\n"
      ],
      "metadata": {
        "colab": {
          "base_uri": "https://localhost:8080/"
        },
        "id": "Ojh160jTPw0i",
        "outputId": "3e2cbf29-4b6b-4d5c-d0a9-13c78258830c"
      },
      "execution_count": 18,
      "outputs": [
        {
          "output_type": "stream",
          "name": "stdout",
          "text": [
            "Enter a single character: s\n",
            "Consonant\n"
          ]
        }
      ]
    },
    {
      "cell_type": "markdown",
      "source": [
        "16. Time Classification"
      ],
      "metadata": {
        "id": "asi-VV_OP_TP"
      }
    },
    {
      "cell_type": "code",
      "source": [
        "hour = int(input(\"Enter hour (0-23): \"))\n",
        "\n",
        "if 5 <= hour < 12:\n",
        "    print(\"Good Morning\")\n",
        "elif 12 <= hour < 17:\n",
        "    print(\"Good Afternoon\")\n",
        "elif 17 <= hour < 21:\n",
        "    print(\"Good Evening\")\n",
        "else:\n",
        "    print(\"Good Night\")\n"
      ],
      "metadata": {
        "colab": {
          "base_uri": "https://localhost:8080/"
        },
        "id": "pQzsZooEP8FU",
        "outputId": "841ff6fc-bbe4-43dd-abd5-5f1dc0b296e3"
      },
      "execution_count": 19,
      "outputs": [
        {
          "output_type": "stream",
          "name": "stdout",
          "text": [
            "Enter hour (0-23): 12\n",
            "Good Afternoon\n"
          ]
        }
      ]
    },
    {
      "cell_type": "markdown",
      "source": [
        "17. Triangle Type Checker"
      ],
      "metadata": {
        "id": "3nuOxDmqQFrO"
      }
    },
    {
      "cell_type": "code",
      "source": [
        "a = float(input(\"Enter first side: \"))\n",
        "b = float(input(\"Enter second side: \"))\n",
        "c = float(input(\"Enter third side: \"))\n",
        "\n",
        "if a == b == c:\n",
        "    print(\"Equilateral\")\n",
        "elif a == b or b == c or a == c:\n",
        "    print(\"Isosceles\")\n",
        "else:\n",
        "    print(\"Scalene\")"
      ],
      "metadata": {
        "colab": {
          "base_uri": "https://localhost:8080/"
        },
        "id": "mmfmE9nFQBvv",
        "outputId": "c41c0da6-f0a7-49df-8a86-bb5bbdf34caa"
      },
      "execution_count": 20,
      "outputs": [
        {
          "output_type": "stream",
          "name": "stdout",
          "text": [
            "Enter first side: 2\n",
            "Enter second side: 4\n",
            "Enter third side: 5\n",
            "Scalene\n"
          ]
        }
      ]
    },
    {
      "cell_type": "markdown",
      "source": [
        "18. Quadratic Equation Solver"
      ],
      "metadata": {
        "id": "KDey96n8QL4N"
      }
    },
    {
      "cell_type": "code",
      "source": [
        "import math\n",
        "\n",
        "a = float(input(\"Enter a: \"))\n",
        "b = float(input(\"Enter b: \"))\n",
        "c = float(input(\"Enter c: \"))\n",
        "\n",
        "discriminant = b**2 - 4*a*c\n",
        "\n",
        "if discriminant > 0:\n",
        "    root1 = (-b + math.sqrt(discriminant)) / (2*a)\n",
        "    root2 = (-b - math.sqrt(discriminant)) / (2*a)\n",
        "    print(\"Roots:\", root1, \"and\", root2)\n",
        "elif discriminant == 0:\n",
        "    root = -b / (2*a)\n",
        "    print(\"Root:\", root)\n",
        "else:\n",
        "    print(\"Complex roots\")\n"
      ],
      "metadata": {
        "colab": {
          "base_uri": "https://localhost:8080/"
        },
        "id": "y4E1AwkuQHtm",
        "outputId": "1ebb5940-161f-4ec4-b9cb-e4e85d60c472"
      },
      "execution_count": 21,
      "outputs": [
        {
          "output_type": "stream",
          "name": "stdout",
          "text": [
            "Enter a: 3\n",
            "Enter b: 4\n",
            "Enter c: 5\n",
            "Complex roots\n"
          ]
        }
      ]
    },
    {
      "cell_type": "markdown",
      "source": [
        "19. Number Ranges"
      ],
      "metadata": {
        "id": "b-tGODYCQSiW"
      }
    },
    {
      "cell_type": "code",
      "source": [
        "num = int(input(\"Enter an integer: \"))\n",
        "\n",
        "if 0 <= num <= 50:\n",
        "    print(\"Range: 0-50\")\n",
        "elif 51 <= num <= 100:\n",
        "    print(\"Range: 51-100\")\n",
        "elif 101 <= num <= 150:\n",
        "    print(\"Range: 101-150\")\n",
        "else:\n",
        "    print(\"Above 150\")\n"
      ],
      "metadata": {
        "colab": {
          "base_uri": "https://localhost:8080/"
        },
        "id": "d83QnK01QPZm",
        "outputId": "075de54a-d32e-434c-ca04-dbea389e124b"
      },
      "execution_count": 22,
      "outputs": [
        {
          "output_type": "stream",
          "name": "stdout",
          "text": [
            "Enter an integer: 44\n",
            "Range: 0-50\n"
          ]
        }
      ]
    },
    {
      "cell_type": "markdown",
      "source": [
        "20. Sum of N Numbers"
      ],
      "metadata": {
        "id": "4w67LAvnQWmj"
      }
    },
    {
      "cell_type": "code",
      "source": [
        "N = int(input(\"Enter N: \"))\n",
        "total = 0\n",
        "for i in range(1, N+1):\n",
        "    total += i\n",
        "print(\"Sum:\", total)\n"
      ],
      "metadata": {
        "colab": {
          "base_uri": "https://localhost:8080/"
        },
        "id": "evwnjhmBQUQb",
        "outputId": "48e22c19-c866-468d-98bd-1d29bb05d609"
      },
      "execution_count": 23,
      "outputs": [
        {
          "output_type": "stream",
          "name": "stdout",
          "text": [
            "Enter N: 6\n",
            "Sum: 21\n"
          ]
        }
      ]
    },
    {
      "cell_type": "markdown",
      "source": [
        "21. Factorial Calculator"
      ],
      "metadata": {
        "id": "otRgtW2KQxMl"
      }
    },
    {
      "cell_type": "code",
      "source": [
        "N = int(input(\"Enter N: \"))\n",
        "fact = 1\n",
        "while N > 0:\n",
        "    fact *= N\n",
        "    N -= 1\n",
        "print(\"Factorial:\", fact)\n"
      ],
      "metadata": {
        "colab": {
          "base_uri": "https://localhost:8080/"
        },
        "id": "uxVCXeeHQX97",
        "outputId": "9dd8cdd1-94e5-4abd-df11-d4b36aad87ca"
      },
      "execution_count": 24,
      "outputs": [
        {
          "output_type": "stream",
          "name": "stdout",
          "text": [
            "Enter N: 5\n",
            "Factorial: 120\n"
          ]
        }
      ]
    },
    {
      "cell_type": "markdown",
      "source": [
        "22. Table of a Number"
      ],
      "metadata": {
        "id": "ILlKftQxQ0nC"
      }
    },
    {
      "cell_type": "code",
      "source": [
        "N = int(input(\"Enter number: \"))\n",
        "for i in range(1, 11):\n",
        "    print(f\"{N} x {i} = {N*i}\")\n"
      ],
      "metadata": {
        "id": "6RU6DyzfQyiQ"
      },
      "execution_count": null,
      "outputs": []
    },
    {
      "cell_type": "markdown",
      "source": [
        "23. Count Digits in a Number"
      ],
      "metadata": {
        "id": "0D2Btm2IQ2TG"
      }
    },
    {
      "cell_type": "code",
      "source": [
        "N = int(input(\"Enter number: \"))\n",
        "count = 0\n",
        "while N != 0:\n",
        "    count += 1\n",
        "    N //= 10\n",
        "print(\"Digits:\", count)\n"
      ],
      "metadata": {
        "id": "DZ1LIL0JQ3g7"
      },
      "execution_count": null,
      "outputs": []
    },
    {
      "cell_type": "markdown",
      "source": [
        "24. Fibonacci Sequence"
      ],
      "metadata": {
        "id": "NJb4z8NPQ4-A"
      }
    },
    {
      "cell_type": "code",
      "source": [
        "N = int(input(\"Enter limit: \"))\n",
        "a, b = 0, 1\n",
        "for _ in range(N):\n",
        "    print(a, end=\" \")\n",
        "    a, b = b, a + b\n"
      ],
      "metadata": {
        "id": "dhrtxT5HQ8l_"
      },
      "execution_count": null,
      "outputs": []
    },
    {
      "cell_type": "markdown",
      "source": [
        "25. Sum of Even Numbers"
      ],
      "metadata": {
        "id": "CJyRPpJFQ-NI"
      }
    },
    {
      "cell_type": "code",
      "source": [
        "N = int(input(\"Enter N: \"))\n",
        "total = 0\n",
        "i = 1\n",
        "while i <= N:\n",
        "    if i % 2 == 0:\n",
        "        total += i\n",
        "    i += 1\n",
        "print(\"Sum of even numbers:\", total)\n"
      ],
      "metadata": {
        "id": "MUZwASMSQ_vn"
      },
      "execution_count": null,
      "outputs": []
    },
    {
      "cell_type": "markdown",
      "source": [
        "26. Print Patterns"
      ],
      "metadata": {
        "id": "ZAtjRkm0RBr9"
      }
    },
    {
      "cell_type": "code",
      "source": [
        "rows = 5\n",
        "print(\"Right-angled triangle:\")\n",
        "for i in range(1, rows+1):\n",
        "    print(\"*\" * i)\n",
        "\n",
        "print(\"\\nInverted right-angled triangle:\")\n",
        "for i in range(rows, 0, -1):\n",
        "    print(\"*\" * i)\n"
      ],
      "metadata": {
        "id": "eHB3FD8kRDfk"
      },
      "execution_count": null,
      "outputs": []
    },
    {
      "cell_type": "markdown",
      "source": [
        "27. Prime Number Checker"
      ],
      "metadata": {
        "id": "XGZ0DokgRFFw"
      }
    },
    {
      "cell_type": "code",
      "source": [
        "N = int(input(\"Enter number: \"))\n",
        "if N > 1:\n",
        "    is_prime = True\n",
        "    i = 2\n",
        "    while i <= N//2:\n",
        "        if N % i == 0:\n",
        "            is_prime = False\n",
        "            break\n",
        "        i += 1\n",
        "    print(\"Prime\" if is_prime else \"Not prime\")\n",
        "else:\n",
        "    print(\"Not prime\")\n"
      ],
      "metadata": {
        "id": "MjNWnWvPRGou"
      },
      "execution_count": null,
      "outputs": []
    },
    {
      "cell_type": "markdown",
      "source": [
        "28. List Manipulation (sum, avg, max, min)"
      ],
      "metadata": {
        "id": "_3YZ0LsXRH6G"
      }
    },
    {
      "cell_type": "code",
      "source": [
        "numbers = [4, 7, 1, 9, 3]\n",
        "total = 0\n",
        "for num in numbers:\n",
        "    total += num\n",
        "avg = total / len(numbers)\n",
        "print(\"Sum:\", total)\n",
        "print(\"Average:\", avg)\n",
        "print(\"Max:\", max(numbers))\n",
        "print(\"Min:\", min(numbers))\n"
      ],
      "metadata": {
        "colab": {
          "base_uri": "https://localhost:8080/"
        },
        "id": "ErjT6TX7RJNE",
        "outputId": "dd145359-b02d-4cd5-b1e1-f6380bd931c7"
      },
      "execution_count": 25,
      "outputs": [
        {
          "output_type": "stream",
          "name": "stdout",
          "text": [
            "Sum: 24\n",
            "Average: 4.8\n",
            "Max: 9\n",
            "Min: 1\n"
          ]
        }
      ]
    },
    {
      "cell_type": "markdown",
      "source": [
        "29. Reverse String (while loop)"
      ],
      "metadata": {
        "id": "Vyj2sRG3RQ2I"
      }
    },
    {
      "cell_type": "code",
      "source": [
        "s = input(\"Enter string: \")\n",
        "rev = \"\"\n",
        "i = len(s) - 1\n",
        "while i >= 0:\n",
        "    rev += s[i]\n",
        "    i -= 1\n",
        "print(\"Reversed:\", rev)\n"
      ],
      "metadata": {
        "colab": {
          "base_uri": "https://localhost:8080/"
        },
        "id": "bdMEQ9_BRKvs",
        "outputId": "49f57b21-76a1-4fa2-e830-c707bad99726"
      },
      "execution_count": 27,
      "outputs": [
        {
          "output_type": "stream",
          "name": "stdout",
          "text": [
            "Enter string: dg\n",
            "Reversed: gd\n"
          ]
        }
      ]
    },
    {
      "cell_type": "markdown",
      "source": [
        "30. Multiplication Table (1 to 10)"
      ],
      "metadata": {
        "id": "B1D78Z0SRV-K"
      }
    },
    {
      "cell_type": "code",
      "source": [
        "for i in range(1, 11):\n",
        "    for j in range(1, 11):\n",
        "        print(f\"{i} x {j} = {i*j}\", end=\"\\t\")\n",
        "    print()\n"
      ],
      "metadata": {
        "colab": {
          "base_uri": "https://localhost:8080/"
        },
        "id": "6Qb31LmkRMeW",
        "outputId": "a1c5489e-ce33-42dd-efad-eeed088ab710"
      },
      "execution_count": 28,
      "outputs": [
        {
          "output_type": "stream",
          "name": "stdout",
          "text": [
            "1 x 1 = 1\t1 x 2 = 2\t1 x 3 = 3\t1 x 4 = 4\t1 x 5 = 5\t1 x 6 = 6\t1 x 7 = 7\t1 x 8 = 8\t1 x 9 = 9\t1 x 10 = 10\t\n",
            "2 x 1 = 2\t2 x 2 = 4\t2 x 3 = 6\t2 x 4 = 8\t2 x 5 = 10\t2 x 6 = 12\t2 x 7 = 14\t2 x 8 = 16\t2 x 9 = 18\t2 x 10 = 20\t\n",
            "3 x 1 = 3\t3 x 2 = 6\t3 x 3 = 9\t3 x 4 = 12\t3 x 5 = 15\t3 x 6 = 18\t3 x 7 = 21\t3 x 8 = 24\t3 x 9 = 27\t3 x 10 = 30\t\n",
            "4 x 1 = 4\t4 x 2 = 8\t4 x 3 = 12\t4 x 4 = 16\t4 x 5 = 20\t4 x 6 = 24\t4 x 7 = 28\t4 x 8 = 32\t4 x 9 = 36\t4 x 10 = 40\t\n",
            "5 x 1 = 5\t5 x 2 = 10\t5 x 3 = 15\t5 x 4 = 20\t5 x 5 = 25\t5 x 6 = 30\t5 x 7 = 35\t5 x 8 = 40\t5 x 9 = 45\t5 x 10 = 50\t\n",
            "6 x 1 = 6\t6 x 2 = 12\t6 x 3 = 18\t6 x 4 = 24\t6 x 5 = 30\t6 x 6 = 36\t6 x 7 = 42\t6 x 8 = 48\t6 x 9 = 54\t6 x 10 = 60\t\n",
            "7 x 1 = 7\t7 x 2 = 14\t7 x 3 = 21\t7 x 4 = 28\t7 x 5 = 35\t7 x 6 = 42\t7 x 7 = 49\t7 x 8 = 56\t7 x 9 = 63\t7 x 10 = 70\t\n",
            "8 x 1 = 8\t8 x 2 = 16\t8 x 3 = 24\t8 x 4 = 32\t8 x 5 = 40\t8 x 6 = 48\t8 x 7 = 56\t8 x 8 = 64\t8 x 9 = 72\t8 x 10 = 80\t\n",
            "9 x 1 = 9\t9 x 2 = 18\t9 x 3 = 27\t9 x 4 = 36\t9 x 5 = 45\t9 x 6 = 54\t9 x 7 = 63\t9 x 8 = 72\t9 x 9 = 81\t9 x 10 = 90\t\n",
            "10 x 1 = 10\t10 x 2 = 20\t10 x 3 = 30\t10 x 4 = 40\t10 x 5 = 50\t10 x 6 = 60\t10 x 7 = 70\t10 x 8 = 80\t10 x 9 = 90\t10 x 10 = 100\t\n"
          ]
        }
      ]
    },
    {
      "cell_type": "code",
      "source": [],
      "metadata": {
        "id": "M-pb70zVRX_x"
      },
      "execution_count": null,
      "outputs": []
    }
  ]
}