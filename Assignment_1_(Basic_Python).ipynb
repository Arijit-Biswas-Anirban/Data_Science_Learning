{
  "cells": [
    {
      "cell_type": "markdown",
      "metadata": {
        "id": "view-in-github",
        "colab_type": "text"
      },
      "source": [
        "<a href=\"https://colab.research.google.com/github/Arijit-Biswas-Anirban/Data_Science_Learning/blob/main/Assignment_1_(Basic_Python).ipynb\" target=\"_parent\"><img src=\"https://colab.research.google.com/assets/colab-badge.svg\" alt=\"Open In Colab\"/></a>"
      ]
    },
    {
      "cell_type": "markdown",
      "id": "9818ffc8",
      "metadata": {
        "id": "9818ffc8"
      },
      "source": [
        "# Python Practice Problems"
      ]
    },
    {
      "cell_type": "markdown",
      "id": "92c96f2f",
      "metadata": {
        "id": "92c96f2f"
      },
      "source": [
        "### 1. Find the Largest of Two Numbers\n",
        "**Task:** Given two numbers, find the larger one.  \n",
        "**Demo Input:**  5 and 6 <br>\n",
        "**Output:** 6\n"
      ]
    },
    {
      "cell_type": "code",
      "execution_count": 23,
      "id": "15c848cf",
      "metadata": {
        "colab": {
          "base_uri": "https://localhost:8080/"
        },
        "id": "15c848cf",
        "outputId": "e2099068-a224-4220-c3a0-7317e54ed3e2"
      },
      "outputs": [
        {
          "output_type": "stream",
          "name": "stdout",
          "text": [
            "6\n"
          ]
        }
      ],
      "source": [
        "num1 = 5\n",
        "num2 = 6\n",
        "\n",
        "if num1 > num2:\n",
        "  print(num1)\n",
        "else:\n",
        "  print(num2)"
      ]
    },
    {
      "cell_type": "markdown",
      "id": "c8c1c683",
      "metadata": {
        "id": "c8c1c683"
      },
      "source": [
        "### 2. Print Numbers from 1 to N\n",
        "**Task**: Given a number `n`, print all numbers from 1 to `n`. <br>\n",
        "**Demo Input**: `5`  <br>\n",
        "**Demo Output**:  1 2 3 4 5\n"
      ]
    },
    {
      "cell_type": "code",
      "execution_count": 24,
      "id": "4f9f4529",
      "metadata": {
        "colab": {
          "base_uri": "https://localhost:8080/"
        },
        "id": "4f9f4529",
        "outputId": "c9b768a0-b8b2-43d5-c83c-6dc201886bed"
      },
      "outputs": [
        {
          "output_type": "stream",
          "name": "stdout",
          "text": [
            "1\n",
            "2\n",
            "3\n",
            "4\n",
            "5\n"
          ]
        }
      ],
      "source": [
        "n = 5\n",
        "for i in range(1,n+1):\n",
        "  print(i)"
      ]
    },
    {
      "cell_type": "markdown",
      "id": "899df468",
      "metadata": {
        "id": "899df468"
      },
      "source": [
        "### 3. Check if a Number is Positive or Negative\n",
        "**Task**: Determine if the input number is positive, negative, or zero.  \n",
        "**Demo Input**: `-3`  \n",
        "**Demo Output**: `The number is Negative`"
      ]
    },
    {
      "cell_type": "code",
      "execution_count": 25,
      "id": "56ae285e",
      "metadata": {
        "colab": {
          "base_uri": "https://localhost:8080/"
        },
        "id": "56ae285e",
        "outputId": "219267cf-2038-4a41-df1b-af34a6df7445"
      },
      "outputs": [
        {
          "output_type": "stream",
          "name": "stdout",
          "text": [
            "The number is Negative\n"
          ]
        }
      ],
      "source": [
        "num = -3\n",
        "\n",
        "if num > 0:\n",
        "  print(\"The number is Positive\")\n",
        "elif num < 0:\n",
        "  print(\"The number is Negative\")\n",
        "else:\n",
        "  print(\"The number is Zero\")"
      ]
    },
    {
      "cell_type": "markdown",
      "id": "9d865d12",
      "metadata": {
        "id": "9d865d12"
      },
      "source": [
        "### 4. Calculate the Sum of Digits\n",
        "**Task**: Given a number, find the sum of its digits.  \n",
        "**Demo Input**: `123`  \n",
        "**Demo Output**: `6`  \n",
        "(Explanation: `1+2+3=6`)"
      ]
    },
    {
      "cell_type": "code",
      "execution_count": 26,
      "id": "c28b2c6c",
      "metadata": {
        "colab": {
          "base_uri": "https://localhost:8080/"
        },
        "id": "c28b2c6c",
        "outputId": "363f571a-ae33-4b7d-e898-251cc5bb47ca"
      },
      "outputs": [
        {
          "output_type": "stream",
          "name": "stdout",
          "text": [
            "6\n"
          ]
        }
      ],
      "source": [
        "inp = 123\n",
        "temp = str(inp)\n",
        "sum = 0\n",
        "for i in temp:\n",
        "  tmp = int(i)\n",
        "  sum += tmp\n",
        "print(sum)"
      ]
    },
    {
      "cell_type": "markdown",
      "id": "a970046f",
      "metadata": {
        "id": "a970046f"
      },
      "source": [
        "### 5. Find Factorial of a Number\n",
        "**Task**: Calculate the factorial of a given number.  \n",
        "**Demo Input**: `4`  \n",
        "**Demo Output**: `24`  \n",
        "(Explanation: `4! = 4*3*2*1 = 24`)"
      ]
    },
    {
      "cell_type": "code",
      "execution_count": 27,
      "id": "fd5966d2",
      "metadata": {
        "colab": {
          "base_uri": "https://localhost:8080/"
        },
        "id": "fd5966d2",
        "outputId": "b68b04c6-5ad1-48e4-8f82-0e961a600782"
      },
      "outputs": [
        {
          "output_type": "stream",
          "name": "stdout",
          "text": [
            "24\n"
          ]
        }
      ],
      "source": [
        "def fibonacci(num):\n",
        "  if num == 0 or num == 1:\n",
        "    return 1\n",
        "  else:\n",
        "    return num * (fibonacci(num-1))\n",
        "\n",
        "print(fibonacci(4))"
      ]
    },
    {
      "cell_type": "markdown",
      "id": "c8798099",
      "metadata": {
        "id": "c8798099"
      },
      "source": [
        "### 6. Count Occurrences of a Digit\n",
        "**Task**: Count how many times a specific digit appears max in a number.  \n",
        "**Demo Input**:  1233321 <br>\n",
        "**Demo Output**: `3`  <br>\n",
        "(Explanation: `3` appears 3 times in `1233321`)"
      ]
    },
    {
      "cell_type": "code",
      "execution_count": 28,
      "id": "5772f0e6",
      "metadata": {
        "colab": {
          "base_uri": "https://localhost:8080/"
        },
        "id": "5772f0e6",
        "outputId": "2584fbf6-b1ef-4571-b7eb-f7019405790d"
      },
      "outputs": [
        {
          "output_type": "stream",
          "name": "stdout",
          "text": [
            "3\n"
          ]
        }
      ],
      "source": [
        "inp = 1233321\n",
        "tmp = str(inp)\n",
        "count = 0\n",
        "check = '3'\n",
        "\n",
        "for i in tmp:\n",
        "  if i == check:\n",
        "    count += 1\n",
        "print(count)"
      ]
    },
    {
      "cell_type": "markdown",
      "id": "b7f985bc",
      "metadata": {
        "id": "b7f985bc"
      },
      "source": [
        "### 7. Find the GCD of Two Numbers\n",
        "**Task**: Find the greatest common divisor (GCD) of two numbers.  \n",
        "**Demo Input**: 8 and 12 <br>\n",
        "**Demo Output**: `4`"
      ]
    },
    {
      "cell_type": "code",
      "execution_count": 29,
      "id": "a467887d",
      "metadata": {
        "colab": {
          "base_uri": "https://localhost:8080/"
        },
        "id": "a467887d",
        "outputId": "c31a6d60-31a8-4ad5-851c-061edf1ff4a3"
      },
      "outputs": [
        {
          "output_type": "stream",
          "name": "stdout",
          "text": [
            "4\n"
          ]
        }
      ],
      "source": [
        "import math\n",
        "print(math.gcd(8,12))"
      ]
    },
    {
      "cell_type": "markdown",
      "id": "14c6a2fd",
      "metadata": {
        "id": "14c6a2fd"
      },
      "source": [
        "### 8. Reverse a String\n",
        "**Task**: Reverse the given string.  \n",
        "**Demo Input**: `\"aiquest\"`  \n",
        "**Demo Output**: `\"tseuqia\"`"
      ]
    },
    {
      "cell_type": "code",
      "execution_count": 30,
      "id": "bd22e158",
      "metadata": {
        "colab": {
          "base_uri": "https://localhost:8080/"
        },
        "id": "bd22e158",
        "outputId": "ecd3486e-977d-4957-8ab9-2d5d9d9f248a"
      },
      "outputs": [
        {
          "output_type": "stream",
          "name": "stdout",
          "text": [
            "tseuqia\n"
          ]
        }
      ],
      "source": [
        "inp = 'aiquest'\n",
        "reverse_inp = ''.join(reversed(inp))\n",
        "print(reverse_inp)"
      ]
    },
    {
      "cell_type": "markdown",
      "id": "88317dfd",
      "metadata": {
        "id": "88317dfd"
      },
      "source": [
        "### 9. Check Armstrong Number\n",
        "**Task**: Check if a number is an Armstrong number (the sum of its digits raised to the power of the number of digits equals the number).  \n",
        "**Demo Input**: `153`  \n",
        "**Demo Output**: `153 is an Armstrong Number`  \n",
        "(Explanation: \\(1^3 + 5^3 + 3^3 = 153\\))"
      ]
    },
    {
      "cell_type": "code",
      "execution_count": 31,
      "id": "2602ff94",
      "metadata": {
        "colab": {
          "base_uri": "https://localhost:8080/"
        },
        "id": "2602ff94",
        "outputId": "a68d9c50-f1e7-4e80-caf9-2367a24a0c81"
      },
      "outputs": [
        {
          "output_type": "stream",
          "name": "stdout",
          "text": [
            "153 is an Armstrong Number\n"
          ]
        }
      ],
      "source": [
        "armstrong_number = 153\n",
        "temp = str(armstrong_number)\n",
        "\n",
        "sol = 0\n",
        "for i in temp:\n",
        "  tmp = int(i)\n",
        "  sol += tmp**3\n",
        "if sol == armstrong_number:\n",
        "  print(f\"{armstrong_number} is an Armstrong Number\")\n",
        "else:\n",
        "  print(f\"{armstrong_number} is not an Armstrong Number\")"
      ]
    },
    {
      "cell_type": "markdown",
      "id": "0905a3cc",
      "metadata": {
        "id": "0905a3cc"
      },
      "source": [
        "### 10. Generate a Pattern\n",
        "**Task**: Print a pyramid pattern with `n` rows.  \n",
        "**Demo input:** 4 <br>\n",
        "**Output:** You will see the pyramid pattern with 4 rows"
      ]
    },
    {
      "cell_type": "code",
      "execution_count": 32,
      "id": "83d8b483",
      "metadata": {
        "colab": {
          "base_uri": "https://localhost:8080/"
        },
        "id": "83d8b483",
        "outputId": "d645b1a3-9028-4af3-b144-0e85b0401737"
      },
      "outputs": [
        {
          "output_type": "stream",
          "name": "stdout",
          "text": [
            "   *\n",
            "  ***\n",
            " *****\n",
            "*******\n"
          ]
        }
      ],
      "source": [
        "n = 4\n",
        "for i in range(n):\n",
        "  print(' ' * (n - i - 1) + '*' * (2 * i + 1))"
      ]
    },
    {
      "cell_type": "markdown",
      "id": "ec723917",
      "metadata": {
        "id": "ec723917"
      },
      "source": [
        "# Good Luck!"
      ]
    }
  ],
  "metadata": {
    "kernelspec": {
      "display_name": "Python 3 (ipykernel)",
      "language": "python",
      "name": "python3"
    },
    "language_info": {
      "codemirror_mode": {
        "name": "ipython",
        "version": 3
      },
      "file_extension": ".py",
      "mimetype": "text/x-python",
      "name": "python",
      "nbconvert_exporter": "python",
      "pygments_lexer": "ipython3",
      "version": "3.9.13"
    },
    "colab": {
      "provenance": [],
      "include_colab_link": true
    }
  },
  "nbformat": 4,
  "nbformat_minor": 5
}