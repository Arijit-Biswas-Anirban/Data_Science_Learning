{
  "cells": [
    {
      "cell_type": "markdown",
      "metadata": {
        "id": "view-in-github",
        "colab_type": "text"
      },
      "source": [
        "<a href=\"https://colab.research.google.com/github/Arijit-Biswas-Anirban/Data_Science_Learning/blob/main/Assignment_1_(Basic_Python).ipynb\" target=\"_parent\"><img src=\"https://colab.research.google.com/assets/colab-badge.svg\" alt=\"Open In Colab\"/></a>"
      ]
    },
    {
      "cell_type": "markdown",
      "id": "9818ffc8",
      "metadata": {
        "id": "9818ffc8"
      },
      "source": [
        "# Python Practice Problems"
      ]
    },
    {
      "cell_type": "markdown",
      "id": "92c96f2f",
      "metadata": {
        "id": "92c96f2f"
      },
      "source": [
        "### 1. Find the Largest of Two Numbers\n",
        "**Task:** Given two numbers, find the larger one.  \n",
        "**Demo Input:**  5 and 6 <br>\n",
        "**Output:** 6\n"
      ]
    },
    {
      "cell_type": "code",
      "execution_count": null,
      "id": "15c848cf",
      "metadata": {
        "id": "15c848cf"
      },
      "outputs": [],
      "source": []
    },
    {
      "cell_type": "markdown",
      "id": "c8c1c683",
      "metadata": {
        "id": "c8c1c683"
      },
      "source": [
        "### 2. Print Numbers from 1 to N\n",
        "**Task**: Given a number `n`, print all numbers from 1 to `n`. <br>\n",
        "**Demo Input**: `5`  <br>\n",
        "**Demo Output**:  1 2 3 4 5\n"
      ]
    },
    {
      "cell_type": "code",
      "execution_count": null,
      "id": "4f9f4529",
      "metadata": {
        "id": "4f9f4529"
      },
      "outputs": [],
      "source": []
    },
    {
      "cell_type": "markdown",
      "id": "899df468",
      "metadata": {
        "id": "899df468"
      },
      "source": [
        "### 3. Check if a Number is Positive or Negative\n",
        "**Task**: Determine if the input number is positive, negative, or zero.  \n",
        "**Demo Input**: `-3`  \n",
        "**Demo Output**: `The number is Negative`"
      ]
    },
    {
      "cell_type": "code",
      "execution_count": null,
      "id": "56ae285e",
      "metadata": {
        "id": "56ae285e"
      },
      "outputs": [],
      "source": []
    },
    {
      "cell_type": "markdown",
      "id": "9d865d12",
      "metadata": {
        "id": "9d865d12"
      },
      "source": [
        "### 4. Calculate the Sum of Digits\n",
        "**Task**: Given a number, find the sum of its digits.  \n",
        "**Demo Input**: `123`  \n",
        "**Demo Output**: `6`  \n",
        "(Explanation: `1+2+3=6`)"
      ]
    },
    {
      "cell_type": "code",
      "execution_count": null,
      "id": "c28b2c6c",
      "metadata": {
        "id": "c28b2c6c"
      },
      "outputs": [],
      "source": []
    },
    {
      "cell_type": "markdown",
      "id": "a970046f",
      "metadata": {
        "id": "a970046f"
      },
      "source": [
        "### 5. Find Factorial of a Number\n",
        "**Task**: Calculate the factorial of a given number.  \n",
        "**Demo Input**: `4`  \n",
        "**Demo Output**: `24`  \n",
        "(Explanation: `4! = 4*3*2*1 = 24`)"
      ]
    },
    {
      "cell_type": "code",
      "execution_count": null,
      "id": "fd5966d2",
      "metadata": {
        "id": "fd5966d2"
      },
      "outputs": [],
      "source": []
    },
    {
      "cell_type": "markdown",
      "id": "c8798099",
      "metadata": {
        "id": "c8798099"
      },
      "source": [
        "### 6. Count Occurrences of a Digit\n",
        "**Task**: Count how many times a specific digit appears max in a number.  \n",
        "**Demo Input**:  1233321 <br>\n",
        "**Demo Output**: `3`  <br>\n",
        "(Explanation: `3` appears 3 times in `1233321`)"
      ]
    },
    {
      "cell_type": "code",
      "execution_count": null,
      "id": "5772f0e6",
      "metadata": {
        "id": "5772f0e6"
      },
      "outputs": [],
      "source": []
    },
    {
      "cell_type": "markdown",
      "id": "b7f985bc",
      "metadata": {
        "id": "b7f985bc"
      },
      "source": [
        "### 7. Find the GCD of Two Numbers\n",
        "**Task**: Find the greatest common divisor (GCD) of two numbers.  \n",
        "**Demo Input**: 8 and 12 <br>\n",
        "**Demo Output**: `4`"
      ]
    },
    {
      "cell_type": "code",
      "execution_count": null,
      "id": "a467887d",
      "metadata": {
        "id": "a467887d"
      },
      "outputs": [],
      "source": []
    },
    {
      "cell_type": "markdown",
      "id": "14c6a2fd",
      "metadata": {
        "id": "14c6a2fd"
      },
      "source": [
        "### 8. Reverse a String\n",
        "**Task**: Reverse the given string.  \n",
        "**Demo Input**: `\"aiquest\"`  \n",
        "**Demo Output**: `\"tseuqia\"`"
      ]
    },
    {
      "cell_type": "code",
      "execution_count": null,
      "id": "bd22e158",
      "metadata": {
        "id": "bd22e158"
      },
      "outputs": [],
      "source": []
    },
    {
      "cell_type": "markdown",
      "id": "88317dfd",
      "metadata": {
        "id": "88317dfd"
      },
      "source": [
        "### 9. Check Armstrong Number\n",
        "**Task**: Check if a number is an Armstrong number (the sum of its digits raised to the power of the number of digits equals the number).  \n",
        "**Demo Input**: `153`  \n",
        "**Demo Output**: `153 is an Armstrong Number`  \n",
        "(Explanation: \\(1^3 + 5^3 + 3^3 = 153\\))"
      ]
    },
    {
      "cell_type": "code",
      "execution_count": null,
      "id": "2602ff94",
      "metadata": {
        "id": "2602ff94"
      },
      "outputs": [],
      "source": []
    },
    {
      "cell_type": "markdown",
      "id": "0905a3cc",
      "metadata": {
        "id": "0905a3cc"
      },
      "source": [
        "### 10. Generate a Pattern\n",
        "**Task**: Print a pyramid pattern with `n` rows.  \n",
        "**Demo input:** 4 <br>\n",
        "**Output:** You will see the pyramid pattern with 4 rows"
      ]
    },
    {
      "cell_type": "code",
      "execution_count": null,
      "id": "83d8b483",
      "metadata": {
        "id": "83d8b483"
      },
      "outputs": [],
      "source": []
    },
    {
      "cell_type": "markdown",
      "id": "ec723917",
      "metadata": {
        "id": "ec723917"
      },
      "source": [
        "# Good Luck!"
      ]
    }
  ],
  "metadata": {
    "kernelspec": {
      "display_name": "Python 3 (ipykernel)",
      "language": "python",
      "name": "python3"
    },
    "language_info": {
      "codemirror_mode": {
        "name": "ipython",
        "version": 3
      },
      "file_extension": ".py",
      "mimetype": "text/x-python",
      "name": "python",
      "nbconvert_exporter": "python",
      "pygments_lexer": "ipython3",
      "version": "3.9.13"
    },
    "colab": {
      "provenance": [],
      "include_colab_link": true
    }
  },
  "nbformat": 4,
  "nbformat_minor": 5
}